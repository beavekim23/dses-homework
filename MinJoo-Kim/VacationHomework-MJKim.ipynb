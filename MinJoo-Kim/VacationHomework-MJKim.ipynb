{
 "cells": [
  {
   "cell_type": "code",
   "execution_count": 1,
   "metadata": {},
   "outputs": [],
   "source": [
    "import json\n",
    "from time import sleep\n",
    "import requests\n",
    "import lxml\n",
    "from bs4 import BeautifulSoup\n",
    "from selenium import webdriver\n",
    "import sqlite3 as lite\n",
    "import pandas as pd\n",
    "from pymongo import MongoClient"
   ]
  },
  {
   "cell_type": "markdown",
   "metadata": {},
   "source": [
    "# Vacation Homework"
   ]
  },
  {
   "cell_type": "markdown",
   "metadata": {},
   "source": [
    "## Q1. Python Basic, Web Scraping, RDBMS, SQL\n",
    "\n",
    "### Q1-1\n",
    "\n",
    "`Ancient Egyptian multiplication`(one of two multiplication methods used by scribes, was a systematic method for multiplying two numbers that does not require the multiplication table, only the ability to multiply and divide by 2, and to add.) 을 Python 으로 구현하세요.\n",
    "\n",
    "example output)\n",
    "\n",
    "```\n",
    "enter two numbers: 24 15\n",
    "  24      15 struck\n",
    "  12      30 struck\n",
    "   6      60 struck\n",
    "   3     120 keep\n",
    "   1     240 keep\n",
    "The result is 360\n",
    "```"
   ]
  },
  {
   "cell_type": "code",
   "execution_count": 10,
   "metadata": {},
   "outputs": [
    {
     "name": "stdout",
     "output_type": "stream",
     "text": [
      "Enter Two Numbers: 24 15\n",
      "24\t15\tstruck\n",
      "12\t30\tstruck\n",
      "6\t60\tstruck\n",
      "3\t120\tkeep\n",
      "1\t240\tkeep\n",
      "The result is 360\n"
     ]
    }
   ],
   "source": [
    "# Q1-1\n",
    "user_input = input(\"Enter Two Numbers: \")\n",
    "[a, b] = [int(x) for x in user_input.split()]\n",
    "kept_b = []\n",
    "\n",
    "while a > 0:\n",
    "    if a%2 == 1:\n",
    "        status = \"keep\"\n",
    "        kept_b.append(b)\n",
    "    else:\n",
    "        status = \"struck\"\n",
    "        \n",
    "    print(\"{a}{tab}{b}{tab}{status}\".format(a=a, tab='\\t', b=b, status=status))\n",
    "    a //= 2\n",
    "    b *= 2\n",
    "\n",
    "result = sum([i for i in kept_b])\n",
    "print(\"The result is {}\".format(result))"
   ]
  },
  {
   "cell_type": "markdown",
   "metadata": {},
   "source": [
    "### Q1-2\n",
    "Twitter의 #asiancup 에 대한 트윗 검색결과(https://twitter.com/search?q=%23asiancup)를 sqlite 를 활용한 database에 적재하세요. (10회 스크롤 했을 때의 트윗 본문 전체(이미지 제외))\n",
    "\n",
    "Requirements: selenium, sqlite3\n",
    "\n",
    "Caution : https://twitter.com/robots.txt 의 지침을 따르세요.\n",
    "\n",
    "```\n",
    "# Every bot that might possibly read and respect this file.\n",
    "User-agent: *\n",
    "Allow: /*?lang=\n",
    "Allow: /hashtag/*?src=\n",
    "Allow: /search?q=%23\n",
    "Disallow: /search/realtime\n",
    "Disallow: /search/users\n",
    "Disallow: /search/*/grid\n",
    "\n",
    "Disallow: /*?\n",
    "Disallow: /*/followers\n",
    "Disallow: /*/following\n",
    "\n",
    "Disallow: /account/not_my_account\n",
    "Disallow: /account/deactivated\n",
    "Disallow: /settings/deactivated\n",
    "\n",
    "Disallow: /oauth\n",
    "Disallow: /1/oauth\n",
    "\n",
    "Disallow: /i/streams\n",
    "Disallow: /i/hello\n",
    "\n",
    "# Wait 1 second between successive requests. See ONBOARD-2698 for details.\n",
    "Crawl-delay: 1\n",
    "```"
   ]
  },
  {
   "cell_type": "markdown",
   "metadata": {},
   "source": [
    "#### Practice"
   ]
  },
  {
   "cell_type": "code",
   "execution_count": 28,
   "metadata": {},
   "outputs": [],
   "source": [
    "ch_driver = webdriver.Chrome('C:/Users/beave/AppData/Roaming/Microsoft/Windows/Start Menu/Programs/Python 3.7/chromedriver.exe')\n",
    "url = 'https://twitter.com/search?q=%23asiancup'\n",
    "ch_driver.get(url)"
   ]
  },
  {
   "cell_type": "code",
   "execution_count": 29,
   "metadata": {},
   "outputs": [
    {
     "name": "stdout",
     "output_type": "stream",
     "text": [
      "오후 4:03 - 2019년 1월 23일\n",
      "1088225691332534272\n",
      "1일 베트남인. 쳐부수자 일제 원숭이!!!\n",
      "Vietnam vo dich! \n",
      "#AsianCup #Vietnam\n"
     ]
    }
   ],
   "source": [
    "articles = ch_driver.find_elements_by_class_name('content')\n",
    "\n",
    "# article-id and time\n",
    "time = articles[0].find_element_by_class_name('time')\n",
    "time_a = time.find_element_by_tag_name('a')\n",
    "post_time = time_a.get_attribute('title') #time\n",
    "post_id = time_a.get_attribute('data-conversation-id') #article-id\n",
    "\n",
    "# body\n",
    "body_div = articles[0].find_element_by_class_name(\"js-tweet-text-container\")\n",
    "post_body = body_div.find_element_by_tag_name(\"p\").text\n",
    "\n",
    "print(post_time, post_id, post_body, sep='\\n')"
   ]
  },
  {
   "cell_type": "markdown",
   "metadata": {},
   "source": [
    "#### Web Crawling"
   ]
  },
  {
   "cell_type": "code",
   "execution_count": 31,
   "metadata": {},
   "outputs": [],
   "source": [
    "ch_driver = webdriver.Chrome('C:/Users/beave/AppData/Roaming/Microsoft/Windows/Start Menu/Programs/Python 3.7/chromedriver.exe')\n",
    "url = 'https://twitter.com/search?q=%23asiancup'\n",
    "ch_driver.get(url)\n",
    "\n",
    "result = []\n",
    "\n",
    "for _ in range(10):\n",
    "    articles = ch_driver.find_elements_by_class_name('content')\n",
    "    for item in articles:\n",
    "        time = item.find_element_by_class_name('time')\n",
    "        time_a = time.find_element_by_tag_name('a')\n",
    "        \n",
    "        post_time = time_a.get_attribute('title') #time\n",
    "        post_id = time_a.get_attribute('data-conversation-id') #article-id\n",
    "        \n",
    "        body_div = item.find_element_by_class_name(\"js-tweet-text-container\")\n",
    "        post_body = body_div.find_element_by_tag_name(\"p\").text\n",
    "    \n",
    "        result.append((post_time, post_id, post_body))\n",
    "    \n",
    "    ch_driver.execute_script(\"window.scrollTo(0, 1080)\") # scroll down\n",
    "    sleep(2) "
   ]
  },
  {
   "cell_type": "code",
   "execution_count": 33,
   "metadata": {},
   "outputs": [
    {
     "data": {
      "text/plain": [
       "[('오후 4:03 - 2019년 1월 23일',\n",
       "  '1088225691332534272',\n",
       "  '1일 베트남인. 쳐부수자 일제 원숭이!!!\\nVietnam vo dich! \\n#AsianCup #Vietnam'),\n",
       " ('오후 11:04 - 2019년 1월 24일',\n",
       "  '1088694033025650688',\n",
       "  '오늘은 킹덤 DDay 17:00 #Netflix\\n밤엔 축구 DDay 22:00 #Asiancup'),\n",
       " ('오전 6:54 - 2019년 1월 25일',\n",
       "  '1088812295445250052',\n",
       "  '아쉽다... 한일로의 결승전을 기대했는데...... #asiancup #대한민국'),\n",
       " ('오후 7:21 - 2019년 1월 25일',\n",
       "  '1089000442112012291',\n",
       "  '\"미안한 생각이 많이 드는 것 같습니다\"\\n#손흥민 #asiancup pic.twitter.com/qmzoCqVbC8'),\n",
       " ('오전 7:23 - 2019년 1월 25일',\n",
       "  '1088819559971385344',\n",
       "  '아시안컵 탈락이다..................\\n#AsianCup'),\n",
       " ('오전 9:21 - 2019년 1월 25일',\n",
       "  '1088849413714276352',\n",
       "  'ㅈ..진정해요..!\\n#김영권 AsianCup2019 #asiancup '),\n",
       " ('오후 11:40 - 2019년 1월 22일',\n",
       "  '1087978282635718656',\n",
       "  '아시아쿼터 찾는 수원, 아시안컵 공격수 관찰 중 (출처 : 스포티비뉴스 | 네이버 스포츠) \\nK league Suwon Samsung, Asian Cup striker watching\\nhttp://naver.me/54M4YBpd  \\n#K리그 #Kleague #수원삼성 #suwonsamsung #아시안컵 #asiancup'),\n",
       " ('오후 7:53 - 2019년 1월 25일',\n",
       "  '1089008350170206208',\n",
       "  '\"선수들 그리고 코칭스태프들한테 폐를 끼친 것 같다 미안하다는 생각을 너무 많이 갖고 있다\"\\n\\n죄책감 갖지 마요\\n컨디션도 내내 좋지 않았고 잠도 잘 못 잤다면서\\n쉽지 않겠지만 얼른 털어서 컨디션 회복하고 소속팀에 집중해주세요\\n#손흥민 #asiancup pic.twitter.com/dAIWGe7nqA'),\n",
       " ('오전 6:16 - 2019년 1월 22일',\n",
       "  '1087715575458017281',\n",
       "  '중계 사운드 왜 이럼? 현장음 거의 안들려서 스튜디오 중계같이 들리네. \\n#jtbc #afc #asiancup'),\n",
       " ('오전 5:28 - 2019년 1월 24일',\n",
       "  '1088428234570633216',\n",
       "  'Yes! 베트남! #노골 #VAR #AsianCup #vietnamJapan')]"
      ]
     },
     "execution_count": 33,
     "metadata": {},
     "output_type": "execute_result"
    }
   ],
   "source": [
    "# for check\n",
    "result[:10]"
   ]
  },
  {
   "cell_type": "markdown",
   "metadata": {},
   "source": [
    "#### Insert Data Using SQLite"
   ]
  },
  {
   "cell_type": "markdown",
   "metadata": {},
   "source": [
    "1. Create twitter_posts.db on sqlite3 and move db to your workspace<br/>\n",
    "`.open twitter.db`"
   ]
  },
  {
   "cell_type": "markdown",
   "metadata": {},
   "source": [
    "2. Insert the result into db with Jupyter Notebook"
   ]
  },
  {
   "cell_type": "code",
   "execution_count": 34,
   "metadata": {},
   "outputs": [],
   "source": [
    "db = lite.connect('twitter.db')"
   ]
  },
  {
   "cell_type": "code",
   "execution_count": 35,
   "metadata": {},
   "outputs": [],
   "source": [
    "pd.options.display.max_colwidth = 300"
   ]
  },
  {
   "cell_type": "code",
   "execution_count": 37,
   "metadata": {},
   "outputs": [
    {
     "data": {
      "text/html": [
       "<div>\n",
       "<style scoped>\n",
       "    .dataframe tbody tr th:only-of-type {\n",
       "        vertical-align: middle;\n",
       "    }\n",
       "\n",
       "    .dataframe tbody tr th {\n",
       "        vertical-align: top;\n",
       "    }\n",
       "\n",
       "    .dataframe thead th {\n",
       "        text-align: right;\n",
       "    }\n",
       "</style>\n",
       "<table border=\"1\" class=\"dataframe\">\n",
       "  <thead>\n",
       "    <tr style=\"text-align: right;\">\n",
       "      <th></th>\n",
       "      <th>Datetime</th>\n",
       "      <th>ArticleID</th>\n",
       "      <th>ArticleBody</th>\n",
       "    </tr>\n",
       "  </thead>\n",
       "  <tbody>\n",
       "    <tr>\n",
       "      <th>0</th>\n",
       "      <td>오후 4:03 - 2019년 1월 23일</td>\n",
       "      <td>1088225691332534272</td>\n",
       "      <td>1일 베트남인. 쳐부수자 일제 원숭이!!!\\nVietnam vo dich! \\n#AsianCup #Vietnam</td>\n",
       "    </tr>\n",
       "    <tr>\n",
       "      <th>1</th>\n",
       "      <td>오후 11:04 - 2019년 1월 24일</td>\n",
       "      <td>1088694033025650688</td>\n",
       "      <td>오늘은 킹덤 DDay 17:00 #Netflix\\n밤엔 축구 DDay 22:00 #Asiancup</td>\n",
       "    </tr>\n",
       "    <tr>\n",
       "      <th>2</th>\n",
       "      <td>오전 6:54 - 2019년 1월 25일</td>\n",
       "      <td>1088812295445250052</td>\n",
       "      <td>아쉽다... 한일로의 결승전을 기대했는데...... #asiancup #대한민국</td>\n",
       "    </tr>\n",
       "    <tr>\n",
       "      <th>3</th>\n",
       "      <td>오후 7:21 - 2019년 1월 25일</td>\n",
       "      <td>1089000442112012291</td>\n",
       "      <td>\"미안한 생각이 많이 드는 것 같습니다\"\\n#손흥민 #asiancup pic.twitter.com/qmzoCqVbC8</td>\n",
       "    </tr>\n",
       "    <tr>\n",
       "      <th>4</th>\n",
       "      <td>오전 7:23 - 2019년 1월 25일</td>\n",
       "      <td>1088819559971385344</td>\n",
       "      <td>아시안컵 탈락이다..................\\n#AsianCup</td>\n",
       "    </tr>\n",
       "  </tbody>\n",
       "</table>\n",
       "</div>"
      ],
      "text/plain": [
       "                  Datetime            ArticleID  \\\n",
       "0   오후 4:03 - 2019년 1월 23일  1088225691332534272   \n",
       "1  오후 11:04 - 2019년 1월 24일  1088694033025650688   \n",
       "2   오전 6:54 - 2019년 1월 25일  1088812295445250052   \n",
       "3   오후 7:21 - 2019년 1월 25일  1089000442112012291   \n",
       "4   오전 7:23 - 2019년 1월 25일  1088819559971385344   \n",
       "\n",
       "                                                         ArticleBody  \n",
       "0     1일 베트남인. 쳐부수자 일제 원숭이!!!\\nVietnam vo dich! \\n#AsianCup #Vietnam  \n",
       "1             오늘은 킹덤 DDay 17:00 #Netflix\\n밤엔 축구 DDay 22:00 #Asiancup  \n",
       "2                       아쉽다... 한일로의 결승전을 기대했는데...... #asiancup #대한민국  \n",
       "3  \"미안한 생각이 많이 드는 것 같습니다\"\\n#손흥민 #asiancup pic.twitter.com/qmzoCqVbC8  \n",
       "4                             아시안컵 탈락이다..................\\n#AsianCup  "
      ]
     },
     "execution_count": 37,
     "metadata": {},
     "output_type": "execute_result"
    }
   ],
   "source": [
    "query_create_table = \"\"\"\n",
    "CREATE TABLE IF NOT EXISTS\n",
    "Asiancup \n",
    "(\"Datetime\" TEXT,\n",
    "\"ArticleID\" TEXT,\n",
    "\"ArticleBody\" TEXT);\n",
    "\"\"\"\n",
    "\n",
    "query_insert_data = \"\"\"\n",
    "INSERT INTO Asiancup VALUES(?,?,?);\n",
    "\"\"\"\n",
    "\n",
    "with db:\n",
    "    cur = db.cursor()\n",
    "    cur.execute(query_create_table)\n",
    "    for row in result:\n",
    "        cur.execute(query_insert_data,row)\n",
    "        \n",
    "pd.read_sql(\"SELECT * FROM Asiancup;\", db).head()"
   ]
  },
  {
   "cell_type": "markdown",
   "metadata": {},
   "source": [
    "## Q2. SQL, RDBMS\n",
    "\n",
    "`products.db` 에 대하여 다음 문제를 해결하세요."
   ]
  },
  {
   "cell_type": "code",
   "execution_count": 38,
   "metadata": {},
   "outputs": [],
   "source": [
    "products_db = lite.connect('products.db')"
   ]
  },
  {
   "cell_type": "markdown",
   "metadata": {},
   "source": [
    "### Q2-1\n",
    "\n",
    "`products.db`에 존재하는 모든 `table`과 `column`을 조회하세요."
   ]
  },
  {
   "cell_type": "code",
   "execution_count": 40,
   "metadata": {},
   "outputs": [
    {
     "data": {
      "text/html": [
       "<div>\n",
       "<style scoped>\n",
       "    .dataframe tbody tr th:only-of-type {\n",
       "        vertical-align: middle;\n",
       "    }\n",
       "\n",
       "    .dataframe tbody tr th {\n",
       "        vertical-align: top;\n",
       "    }\n",
       "\n",
       "    .dataframe thead th {\n",
       "        text-align: right;\n",
       "    }\n",
       "</style>\n",
       "<table border=\"1\" class=\"dataframe\">\n",
       "  <thead>\n",
       "    <tr style=\"text-align: right;\">\n",
       "      <th></th>\n",
       "      <th>tbl_name</th>\n",
       "      <th>sql</th>\n",
       "    </tr>\n",
       "  </thead>\n",
       "  <tbody>\n",
       "    <tr>\n",
       "      <th>0</th>\n",
       "      <td>Categories</td>\n",
       "      <td>CREATE TABLE Categories(\\n  \"CategoryID\" TEXT,\\n  \"CategoryName\" TEXT,\\n  \"Description\" TEXT\\n)</td>\n",
       "    </tr>\n",
       "    <tr>\n",
       "      <th>1</th>\n",
       "      <td>Customers</td>\n",
       "      <td>CREATE TABLE Customers(\\n  \"CustomerID\" TEXT,\\n  \"CustomerName\" TEXT,\\n  \"ContactName\" TEXT,\\n  \"Address\" TEXT,\\n  \"City\" TEXT,\\n  \"PostalCode\" TEXT,\\n  \"Country\" TEXT\\n)</td>\n",
       "    </tr>\n",
       "    <tr>\n",
       "      <th>2</th>\n",
       "      <td>Employees</td>\n",
       "      <td>CREATE TABLE Employees(\\n  \"EmployeeID\" TEXT,\\n  \"LastName\" TEXT,\\n  \"FirstName\" TEXT,\\n  \"BirthDate\" TEXT,\\n  \"Photo\" TEXT,\\n  \"Notes\" TEXT\\n)</td>\n",
       "    </tr>\n",
       "    <tr>\n",
       "      <th>3</th>\n",
       "      <td>Shippers</td>\n",
       "      <td>CREATE TABLE Shippers(\\n  \"ShipperID\" TEXT,\\n  \"ShipperName\" TEXT,\\n  \"Phone\" TEXT\\n)</td>\n",
       "    </tr>\n",
       "    <tr>\n",
       "      <th>4</th>\n",
       "      <td>Suppliers</td>\n",
       "      <td>CREATE TABLE Suppliers(\\n  \"SupplierID\" TEXT,\\n  \"SupplierName\" TEXT,\\n  \"ContactName\" TEXT,\\n  \"Address\" TEXT,\\n  \"City\" TEXT,\\n  \"PostalCode\" TEXT,\\n  \"Country\" TEXT,\\n  \"Phone\" TEXT\\n)</td>\n",
       "    </tr>\n",
       "    <tr>\n",
       "      <th>5</th>\n",
       "      <td>Orders</td>\n",
       "      <td>CREATE TABLE Orders(\\nOrderID integer,\\nCustomerID integer,\\nEmployeeID integer,\\nOrderDate date,\\nShipperID integer)</td>\n",
       "    </tr>\n",
       "    <tr>\n",
       "      <th>6</th>\n",
       "      <td>OrderDetails</td>\n",
       "      <td>CREATE TABLE OrderDetails(\\nOrderDetailID integer,\\nOrderID integer,\\nProductID integer,\\nQuantity integer)</td>\n",
       "    </tr>\n",
       "    <tr>\n",
       "      <th>7</th>\n",
       "      <td>Products</td>\n",
       "      <td>CREATE TABLE Products(\\nProductID integer,\\nProductName text,\\nSupplierID integer,\\nCategoryID integer,\\nUnit text,\\nPrice integer\\n)</td>\n",
       "    </tr>\n",
       "  </tbody>\n",
       "</table>\n",
       "</div>"
      ],
      "text/plain": [
       "       tbl_name  \\\n",
       "0    Categories   \n",
       "1     Customers   \n",
       "2     Employees   \n",
       "3      Shippers   \n",
       "4     Suppliers   \n",
       "5        Orders   \n",
       "6  OrderDetails   \n",
       "7      Products   \n",
       "\n",
       "                                                                                                                                                                                           sql  \n",
       "0                                                                                              CREATE TABLE Categories(\\n  \"CategoryID\" TEXT,\\n  \"CategoryName\" TEXT,\\n  \"Description\" TEXT\\n)  \n",
       "1                   CREATE TABLE Customers(\\n  \"CustomerID\" TEXT,\\n  \"CustomerName\" TEXT,\\n  \"ContactName\" TEXT,\\n  \"Address\" TEXT,\\n  \"City\" TEXT,\\n  \"PostalCode\" TEXT,\\n  \"Country\" TEXT\\n)  \n",
       "2                                              CREATE TABLE Employees(\\n  \"EmployeeID\" TEXT,\\n  \"LastName\" TEXT,\\n  \"FirstName\" TEXT,\\n  \"BirthDate\" TEXT,\\n  \"Photo\" TEXT,\\n  \"Notes\" TEXT\\n)  \n",
       "3                                                                                                        CREATE TABLE Shippers(\\n  \"ShipperID\" TEXT,\\n  \"ShipperName\" TEXT,\\n  \"Phone\" TEXT\\n)  \n",
       "4  CREATE TABLE Suppliers(\\n  \"SupplierID\" TEXT,\\n  \"SupplierName\" TEXT,\\n  \"ContactName\" TEXT,\\n  \"Address\" TEXT,\\n  \"City\" TEXT,\\n  \"PostalCode\" TEXT,\\n  \"Country\" TEXT,\\n  \"Phone\" TEXT\\n)  \n",
       "5                                                                        CREATE TABLE Orders(\\nOrderID integer,\\nCustomerID integer,\\nEmployeeID integer,\\nOrderDate date,\\nShipperID integer)  \n",
       "6                                                                                  CREATE TABLE OrderDetails(\\nOrderDetailID integer,\\nOrderID integer,\\nProductID integer,\\nQuantity integer)  \n",
       "7                                                        CREATE TABLE Products(\\nProductID integer,\\nProductName text,\\nSupplierID integer,\\nCategoryID integer,\\nUnit text,\\nPrice integer\\n)  "
      ]
     },
     "execution_count": 40,
     "metadata": {},
     "output_type": "execute_result"
    }
   ],
   "source": [
    "# Q2-1\n",
    "query = \"\"\"\n",
    "SELECT tbl_name, sql FROM sqlite_master;\n",
    "\"\"\"\n",
    "\n",
    "pd.read_sql(query, products_db)"
   ]
  },
  {
   "cell_type": "markdown",
   "metadata": {},
   "source": [
    "### Q2-2\n",
    "\n",
    "`Customer`의 `Country`가 \"Germany\" 이거나 `City`가 \"London\" 인 모든 주문의 주문양(`Quantity`)의 합을 조회하세요."
   ]
  },
  {
   "cell_type": "code",
   "execution_count": 72,
   "metadata": {},
   "outputs": [
    {
     "data": {
      "text/html": [
       "<div>\n",
       "<style scoped>\n",
       "    .dataframe tbody tr th:only-of-type {\n",
       "        vertical-align: middle;\n",
       "    }\n",
       "\n",
       "    .dataframe tbody tr th {\n",
       "        vertical-align: top;\n",
       "    }\n",
       "\n",
       "    .dataframe thead th {\n",
       "        text-align: right;\n",
       "    }\n",
       "</style>\n",
       "<table border=\"1\" class=\"dataframe\">\n",
       "  <thead>\n",
       "    <tr style=\"text-align: right;\">\n",
       "      <th></th>\n",
       "      <th>Total Quantity</th>\n",
       "    </tr>\n",
       "  </thead>\n",
       "  <tbody>\n",
       "    <tr>\n",
       "      <th>0</th>\n",
       "      <td>2633</td>\n",
       "    </tr>\n",
       "  </tbody>\n",
       "</table>\n",
       "</div>"
      ],
      "text/plain": [
       "   Total Quantity\n",
       "0            2633"
      ]
     },
     "execution_count": 72,
     "metadata": {},
     "output_type": "execute_result"
    }
   ],
   "source": [
    "# Q 2-2\n",
    "query = \"\"\"\n",
    "SELECT sum(Quantity) \"Total Quantity\"\n",
    "FROM OrderDetails\n",
    "WHERE\n",
    "    OrderID IN(\n",
    "    SELECT OrderID\n",
    "    FROM Orders\n",
    "    WHERE \n",
    "        CustomerID IN(\n",
    "        SELECT CustomerID\n",
    "        FROM Customers\n",
    "        WHERE\n",
    "            Country == \"Germany\"\n",
    "            OR\n",
    "            City == \"London\"\n",
    "        )\n",
    "    )\n",
    ";    \n",
    "\"\"\"\n",
    "\n",
    "pd.read_sql(query, products_db)"
   ]
  },
  {
   "cell_type": "markdown",
   "metadata": {},
   "source": [
    "### Q2-3\n",
    "\n",
    "월별 총 주문 횟수와 총 주문 갯수, 평균 주문 금액(소수점 2째 자리에서 반올림)을 조회하세요.\n",
    "(총 주문 횟수를 기준으로 내림차순 정렬)"
   ]
  },
  {
   "cell_type": "code",
   "execution_count": 91,
   "metadata": {},
   "outputs": [
    {
     "data": {
      "text/html": [
       "<div>\n",
       "<style scoped>\n",
       "    .dataframe tbody tr th:only-of-type {\n",
       "        vertical-align: middle;\n",
       "    }\n",
       "\n",
       "    .dataframe tbody tr th {\n",
       "        vertical-align: top;\n",
       "    }\n",
       "\n",
       "    .dataframe thead th {\n",
       "        text-align: right;\n",
       "    }\n",
       "</style>\n",
       "<table border=\"1\" class=\"dataframe\">\n",
       "  <thead>\n",
       "    <tr style=\"text-align: right;\">\n",
       "      <th></th>\n",
       "      <th>Count</th>\n",
       "      <th>Month</th>\n",
       "      <th>Total Quantity</th>\n",
       "      <th>Average</th>\n",
       "    </tr>\n",
       "  </thead>\n",
       "  <tbody>\n",
       "    <tr>\n",
       "      <th>0</th>\n",
       "      <td>85</td>\n",
       "      <td>1997-01</td>\n",
       "      <td>2401</td>\n",
       "      <td>981.18</td>\n",
       "    </tr>\n",
       "    <tr>\n",
       "      <th>1</th>\n",
       "      <td>81</td>\n",
       "      <td>1996-12</td>\n",
       "      <td>2200</td>\n",
       "      <td>786.68</td>\n",
       "    </tr>\n",
       "    <tr>\n",
       "      <th>2</th>\n",
       "      <td>73</td>\n",
       "      <td>1996-10</td>\n",
       "      <td>1738</td>\n",
       "      <td>705.87</td>\n",
       "    </tr>\n",
       "    <tr>\n",
       "      <th>3</th>\n",
       "      <td>69</td>\n",
       "      <td>1996-08</td>\n",
       "      <td>1322</td>\n",
       "      <td>482.40</td>\n",
       "    </tr>\n",
       "    <tr>\n",
       "      <th>4</th>\n",
       "      <td>66</td>\n",
       "      <td>1996-11</td>\n",
       "      <td>1735</td>\n",
       "      <td>941.88</td>\n",
       "    </tr>\n",
       "    <tr>\n",
       "      <th>5</th>\n",
       "      <td>59</td>\n",
       "      <td>1996-07</td>\n",
       "      <td>1462</td>\n",
       "      <td>640.34</td>\n",
       "    </tr>\n",
       "    <tr>\n",
       "      <th>6</th>\n",
       "      <td>57</td>\n",
       "      <td>1996-09</td>\n",
       "      <td>1124</td>\n",
       "      <td>606.41</td>\n",
       "    </tr>\n",
       "    <tr>\n",
       "      <th>7</th>\n",
       "      <td>28</td>\n",
       "      <td>1997-02</td>\n",
       "      <td>761</td>\n",
       "      <td>713.53</td>\n",
       "    </tr>\n",
       "  </tbody>\n",
       "</table>\n",
       "</div>"
      ],
      "text/plain": [
       "   Count    Month  Total Quantity  Average\n",
       "0     85  1997-01            2401   981.18\n",
       "1     81  1996-12            2200   786.68\n",
       "2     73  1996-10            1738   705.87\n",
       "3     69  1996-08            1322   482.40\n",
       "4     66  1996-11            1735   941.88\n",
       "5     59  1996-07            1462   640.34\n",
       "6     57  1996-09            1124   606.41\n",
       "7     28  1997-02             761   713.53"
      ]
     },
     "execution_count": 91,
     "metadata": {},
     "output_type": "execute_result"
    }
   ],
   "source": [
    "query = \"\"\"\n",
    "SELECT \n",
    "    count(D.OrderID) \"Count\",\n",
    "    substr(O.OrderDate, 1, 7) \"Month\",\n",
    "    sum(D.Quantity) \"Total Quantity\",\n",
    "    round(sum(D.Quantity * P.Price) / count(D.OrderID), 2) \"Average\"\n",
    "    \n",
    "FROM\n",
    "    OrderDetails D\n",
    "JOIN\n",
    "    Orders O\n",
    "    ON\n",
    "    D.OrderID == O.OrderID\n",
    "JOIN\n",
    "    Products P\n",
    "    ON\n",
    "    D.ProductID == P.ProductID\n",
    "GROUP BY\n",
    "    \"Month\"\n",
    "ORDER BY\n",
    "    \"Count\" DESC\n",
    ";\n",
    "\"\"\"\n",
    "\n",
    "pd.read_sql(query, products_db)"
   ]
  },
  {
   "cell_type": "code",
   "execution_count": null,
   "metadata": {},
   "outputs": [],
   "source": []
  }
 ],
 "metadata": {
  "kernelspec": {
   "display_name": "Python 3",
   "language": "python",
   "name": "python3"
  },
  "language_info": {
   "codemirror_mode": {
    "name": "ipython",
    "version": 3
   },
   "file_extension": ".py",
   "mimetype": "text/x-python",
   "name": "python",
   "nbconvert_exporter": "python",
   "pygments_lexer": "ipython3",
   "version": "3.7.1"
  }
 },
 "nbformat": 4,
 "nbformat_minor": 2
}
